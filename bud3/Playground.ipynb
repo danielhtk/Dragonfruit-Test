{
 "cells": [
  {
   "cell_type": "code",
   "execution_count": 2,
   "metadata": {
    "scrolled": false
   },
   "outputs": [
    {
     "name": "stdout",
     "output_type": "stream",
     "text": [
      "WARNING:tensorflow:\n",
      "The TensorFlow contrib module will not be included in TensorFlow 2.0.\n",
      "For more information, please see:\n",
      "  * https://github.com/tensorflow/community/blob/master/rfcs/20180907-contrib-sunset.md\n",
      "  * https://github.com/tensorflow/addons\n",
      "  * https://github.com/tensorflow/io (for I/O related ops)\n",
      "If you depend on functionality not listed there, please file an issue.\n",
      "\n"
     ]
    }
   ],
   "source": [
    "from main import getEdge\n",
    "import argparse\n",
    "from unittest import mock"
   ]
  },
  {
   "cell_type": "code",
   "execution_count": 179,
   "metadata": {},
   "outputs": [],
   "source": [
    "import numpy as np\n",
    "import cv2\n",
    "import seaborn as sns\n",
    "import matplotlib.pyplot as plt\n",
    "import os\n",
    "from math import sqrt\n",
    "from datetime import datetime\n",
    "from datetime import timedelta\n",
    "import matplotlib.dates as mdates\n",
    "from scipy import stats\n",
    "\n",
    "def canny_edge(in_filename):\n",
    "    img = cv2.imread(in_filename,0)\n",
    "    gray_filtered = cv2.bilateralFilter(img, 10, 500, 2)\n",
    "\n",
    "    # Using the Canny filter to get contours\n",
    "    edges = cv2.Canny(gray_filtered, 20, 30)\n",
    "    # Using the Canny filter with different parameters\n",
    "    edges_high_thresh = cv2.Canny(gray_filtered, 60, 120)\n",
    "    # Stacking the images to print them together\n",
    "    # For comparison\n",
    "    images = np.hstack((img, edges, edges_high_thresh))\n",
    "    # Output the resulting\n",
    "\n",
    "    cv2.imwrite('images/canny_img/canny_'+ \\\n",
    "                 os.path.splitext(os.path.basename(in_filename))[0] + \\\n",
    "                 '.png',images)\n",
    "    return edges_high_thresh\n",
    "\n",
    "def contours_metadata(contours):\n",
    "    ##將contours的metadata存入contours_data\n",
    "    contours_data={}\n",
    "    cnts_perimeter=[]\n",
    "    cnts_area=[]\n",
    "    cnts_index=[]\n",
    "\n",
    "    ## 計算資料分布改框的條件，因為小於200的資料太多，故刪除\n",
    "    for c in contours:\n",
    "        if cv2.contourArea(c)>200.0 and \\\n",
    "           cv2.arcLength(c,False)<600 :\n",
    "            cnts_index.append(c)\n",
    "            cnts_perimeter.append(cv2.arcLength(c,False))\n",
    "            cnts_area.append(cv2.contourArea(c))\n",
    "    contours_data['index']=cnts_index\n",
    "    contours_data['perimeter']=cnts_perimeter\n",
    "    contours_data['area']=cnts_area\n",
    "    # show_statistic(contours_data['area'],25.0)\n",
    "\n",
    "    # plt.hist(contours_data['area'], color = 'blue', edgecolor = 'black'\n",
    "    #          ,bins = int((max(contours_data['area'])-min(contours_data['area']))/25.0))\n",
    "    contours_data['area_avg']=np.average(contours_data['area'])\n",
    "    contours_data['area_variance']=np.var(contours_data['area'])\n",
    "    contours_data['area_std']=np.std(contours_data['area'])\n",
    "    bp_dict=plt.boxplot(contours_data['area'])\n",
    "\n",
    "    contours_data['area_Q1']=[item.get_ydata()[1] for item in bp_dict['boxes']][0]\n",
    "    contours_data['area_Q3']=[item.get_ydata()[3] for item in bp_dict['boxes']][0]\n",
    "    contours_data['area_median']=[item.get_ydata()[1] for item in bp_dict['medians']][0]\n",
    "    contours_data['area_min']=[item.get_ydata()[1] for item in bp_dict['whiskers']][0]\n",
    "    contours_data['area_max']=[item.get_ydata()[1] for item in bp_dict['whiskers']][1]\n",
    "\n",
    "    plt.clf()\n",
    "    plt.close()\n",
    "    # print(\"25%: \",contours_data['area_Q1'])\n",
    "    # print(\"75%: \",contours_data['area_Q3'])\n",
    "    # print(\"median: \",contours_data['area_median'])\n",
    "    # print(\"min\",contours_data['area_min'])\n",
    "    # print(\"max\",contours_data['area_max'])\n",
    "\n",
    "    return contours_data\n",
    "\n",
    "\n",
    "def myfunc(x):\n",
    "    return slope * x + intercept\n",
    "\n",
    "#x, y: data to fit\n",
    "#pyplot_formatter: pyplot Format Strings\n",
    "#fit_type: one of \"exp\", \"poly\", \"linear\"\n",
    "# \"poly\" will use 3rd degree polynomial to draw the fit curve\n",
    "\n",
    "def draw_fitline(ax, x, y, pyplot_formatter, fit_type):\n",
    "    \n",
    "    def R2(x, y, coefs):\n",
    "        p = np.poly1d(coefs)\n",
    "        yhat = p(x) # or [p(z) for z in x]\n",
    "        ybar = np.sum(y)/len(y)          # or sum(y)/len(y)\n",
    "        ssreg = np.sum((yhat-ybar)**2)   # or sum([ (yihat - ybar)**2 for yihat in yhat])\n",
    "        sstot = np.sum((y - ybar)**2)    # or sum([ (yi - ybar)**2 for yi in y])\n",
    "        return ssreg / sstot\n",
    "    \n",
    "    order = 3\n",
    "    dot_num = 100\n",
    "    x_base = x[0]\n",
    "    x = [item - x_base for item in x]\n",
    "    xp = np.linspace(x[0], x[-1], dot_num)\n",
    "    \n",
    "    main_ax = ax.twiny()\n",
    "    original_xlim = ax.get_xlim()\n",
    "    main_ax.set_xlim([timestamp - x_base for timestamp in original_xlim])\n",
    "\n",
    "    \n",
    "    if fit_type == \"exp\":\n",
    "             \n",
    "        # Using polyfit to compute exponential regression function\n",
    "        # y = b*exp(a*x)\n",
    "        exp_coef = np.polyfit(x, np.log(y), 1)\n",
    "        pexp = np.poly1d(exp_coef)\n",
    "        \n",
    "        # But be careful, to transform a linear function to a exponential function\n",
    "        # we should addjust coefficients.\n",
    "        print(exp_coef)\n",
    "        a = exp_coef[0]\n",
    "        b = np.exp(exp_coef[1])\n",
    "        \n",
    "        print(\"R2 value: \")\n",
    "        print(R2(x, np.log(y), exp_coef))\n",
    "        print(\"for function y = b*exp(a*x), b = {b:e}, a={a:e}\".format(b=b, a=a))\n",
    "        line_expfit, = main_ax.plot(xp, np.exp(pexp(xp)), label=r'exponential regression $y = {b:.2f}e^{{{a:.2f}x}}$'.format(b=b, a=a))\n",
    "        main_ax.legend(handles=[line_expfit])\n",
    "        \n",
    "        return line_expfit\n",
    "        \n",
    "        \n",
    "    elif fit_type == \"linear\":\n",
    "        slope, intercept, r, p, std_err = stats.linregress(x, y)\n",
    "        y_regression = [slope * n + intercept for n in x]\n",
    "        \n",
    "        print(\"R2 value: \")\n",
    "        print(R2(x, y, [slope, intercept]))\n",
    "        print(\"for function y = a*x + b, a = {a}, b = {b}\".format(a=slope, b=intercept))\n",
    "        \n",
    "        line_regression, = main_ax.plot(x, y_regression, label=r'linear regression $y = {a:.2f}x + {b:.2f}$'.format(a=slope, b=intercept))\n",
    "        main_ax.legend(handles=[line_regression])\n",
    "\n",
    "        return line_regression\n",
    "        \n",
    "    elif fit_type == \"poly\":\n",
    "        poly_coef = np.polyfit(x, y, order)\n",
    "        p3 = np.poly1d(poly_coef)\n",
    "        \n",
    "        print(\"R2 value: \")\n",
    "        print(R2(x, y, poly_coef))\n",
    "        print(\"for function y = ax^3 + bx^2 + cx + d, \\n a = {a}, \\n b = {b}, \\n c = {c}, \\n d = {d}\".format(\n",
    "            a=poly_coef[3], \n",
    "            b=poly_coef[2],\n",
    "            c=poly_coef[1],\n",
    "            d=poly_coef[0]))\n",
    "        \n",
    "        line_regression, = main_ax.plot(xp, p3(xp), label=r'polynomial regression $y = {a:.2f}x^3 + {b:.2f}x^2 + {c:.2f}x + {d:.2f}$'.format(\n",
    "            a=poly_coef[3], \n",
    "            b=poly_coef[2],\n",
    "            c=poly_coef[1],\n",
    "            d=poly_coef[0]))\n",
    "        main_ax.legend(handles=[line_regression])\n",
    "        \n",
    "        return line_regression\n",
    "        \n",
    "\n",
    "def BudContours():\n",
    "    directory=\"images/edged_img/\"\n",
    "    datetime_objects=[]\n",
    "    files=[]\n",
    "    banana_volume_list=[]\n",
    "    for filename in os.listdir(directory):\n",
    "        if filename.endswith(\".jpg\") or filename.endswith(\".png\"):\n",
    "            # files.append(os.path.join(directory,filename))\n",
    "            # name, file_extension = os.path.splitext(filename)\n",
    "            # last_underscore_index = name.rfind('_')\n",
    "            # date_info = name[0:last_underscore_index]\n",
    "            # banana_seq = int(name[-1])\n",
    "            datetime_objects.append(datetime.strptime(filename,\"image_%d-%m-%Y_%I-%M-%S_%p.png\"))\n",
    "            # datetime_objects.append(datetime.strptime(date_info,\"%m_%d_%H_%M_%S\"))\n",
    "            # print(\"--\",os.path.join(directory,filename))\n",
    "\n",
    "    datetime_objects=sorted(datetime_objects)\n",
    "    for d in datetime_objects:\n",
    "        filename=d.strftime(\"image_%d-%m-%Y_%I-%M-%S_%p.png\")\n",
    "        files.append(os.path.join(directory,filename))\n",
    "        # print(\"--\",os.path.join(directory,filename))\n",
    "\n",
    "    for f in files:\n",
    "        edges = canny_edge(f)\n",
    "        ret,thresh = cv2.threshold(edges,127,255,0)\n",
    "        # img = cv2.imread(f,0)\n",
    "        #ret,thresh = cv2.threshold(img,127,255,0)\n",
    "        # blurred = cv2.GaussianBlur(img, (5, 5), 0)\n",
    "        # value, thresh = cv2.threshold(blurred, 60, 255, cv2.THRESH_BINARY_INV)\n",
    "        contours, hierarchy = cv2.findContours(thresh,cv2.RETR_EXTERNAL,cv2.CHAIN_APPROX_SIMPLE)\n",
    "        metadata = contours_metadata(contours)\n",
    "        minimum =metadata['area_min']\n",
    "        median =metadata['area_median']\n",
    "        maximum =metadata['area_max']\n",
    "        area_avg = metadata['area_avg']\n",
    "        area_std = metadata['area_std']\n",
    "        q1=metadata['area_Q1']\n",
    "        cnt_with_area =[]\n",
    "        total_area = 0.0\n",
    "        total_volume = 0.0\n",
    "        # /** 針對average、standard deviation去篩選contours */\n",
    "        for c in contours:\n",
    "            #if cv2.contourArea(c)>(minimum)and \\\n",
    "             #cv2.contourArea(c)<(maximum):\n",
    "            cnt_with_area.append(c)\n",
    "            a = cv2.contourArea(c)\n",
    "            total_area += a\n",
    "            total_volume += sqrt(a)**3\n",
    "        # print(len(cnt_with_area))\n",
    "\n",
    "        # /** 使用Q1、medina、Q3來篩選contours\n",
    "        # for c in contours:\n",
    "        #     if cv2.contourArea(c)> median and \\\n",
    "        #         cv2.contourArea(c)< maximum :\n",
    "        #         cnt_with_area.append(c)\n",
    "        #         total_area += cv2.contourArea(c)\n",
    "\n",
    "        read_filename = directory+ \\\n",
    "                        os.path.splitext(os.path.basename(f))[0] +\\\n",
    "                    '.png'\n",
    "        print(read_filename)\n",
    "        out_filename = 'images/result_pics/res_' + os.path.splitext(os.path.basename(f))[0] + '.png'\n",
    "        result = cv2.drawContours(cv2.imread(read_filename), cnt_with_area, -1, (0,0,255), 2)\n",
    "        cv2.imwrite(out_filename, result)\n",
    "        ## 畫圖\n",
    "        # if len(cnt_with_area)!=0.0:\n",
    "        # print(total_area)\n",
    "        # print(cnt_with_area)\n",
    "        avg_area = total_area / len(cnt_with_area)\n",
    "\n",
    "        banana_volume = sqrt(avg_area)**3\n",
    "        avg_volume = total_volume / len(cnt_with_area)\n",
    "        # banana_volume_list.append(banana_volume)\n",
    "        # banana_volume_list.append(avg_volume)\n",
    "        # banana_volume_list.append(total_volume)\n",
    "        # banana_volume_list.append(total_area)\n",
    "        banana_volume_list.append(avg_area)\n",
    "    x = list(range(1, len(banana_volume_list)+1))\n",
    "    x = np.array([ i.toordinal() for i in datetime_objects ])\n",
    "    y_dots = np.array(banana_volume_list)\n",
    "    for co in range(len(y_dots)):\n",
    "        if y_dots[co] > 10000.0:\n",
    "            y_dots = filterData(co , y_dots)\n",
    "    ###filter array\n",
    "    #if you don't want data be filtered\n",
    "    #you can always comment these lines\n",
    "    filter_array = y_dots > 0  #y_dots > 0 equals to return np.where(y_dots!=0)\n",
    "    x = x[filter_array]\n",
    "    y_dots = y_dots[filter_array]       #y_dots[np.where(y_dots != 0)]\n",
    "    ###filter array end\n",
    "    ax = plt.gca()\n",
    "    formatter = mdates.DateFormatter(\"%b\")\n",
    "    ax.xaxis.set_major_formatter(formatter)\n",
    "\n",
    "    locator = mdates.MonthLocator()\n",
    "    ax.xaxis.set_major_locator(locator)\n",
    "\n",
    "    formatter = mdates.DateFormatter(\"%d\")\n",
    "    ax.xaxis.set_minor_formatter(formatter)\n",
    "\n",
    "    locator = mdates.DayLocator()\n",
    "    ax.xaxis.set_minor_locator(locator)\n",
    "\n",
    "    left_range = min(datetime_objects) - timedelta(days=1)\n",
    "    right_range = max(datetime_objects) + timedelta(days=1)\n",
    "\n",
    "    # ax.set_xlim([datetime(2020, 6, 10), datetime(2020, 7, 1)])\n",
    "    ax.set_xlim([left_range, right_range])\n",
    "\n",
    "    ax.scatter(x, y_dots)\n",
    "\n",
    "    draw_fitline(ax, x, y_dots, '-', 'exp')\n",
    "\n",
    "    plt.savefig(\"scatter.png\")\n",
    "\n",
    "    plt.show()\n",
    "    \n",
    "    return x, y_dots\n",
    "\n",
    "def filterData(x, y_dots): #filter insuitable data and replace with 0\n",
    "    temp = 0\n",
    "    c = len(y_dots) - x #left how much to go\n",
    "    temp = x\n",
    "    i = 0;\n",
    "    while  i < c:\n",
    "        if y_dots[temp] < (y_dots[temp-1] - 9000.0):\n",
    "            y_dots[temp] = 0\n",
    "            i += 1\n",
    "            temp += 1\n",
    "        else:\n",
    "            temp += 1\n",
    "            i += 1\n",
    "    return y_dots"
   ]
  },
  {
   "cell_type": "code",
   "execution_count": 180,
   "metadata": {
    "scrolled": true
   },
   "outputs": [
    {
     "name": "stdout",
     "output_type": "stream",
     "text": [
      "images/edged_img/image_03-07-2020_01-00-21_AM.png\n",
      "images/edged_img/image_04-07-2020_01-00-24_AM.png\n",
      "images/edged_img/image_04-07-2020_01-00-54_PM.png\n",
      "images/edged_img/image_05-07-2020_01-00-55_AM.png\n",
      "images/edged_img/image_05-07-2020_01-01-55_AM.png\n",
      "images/edged_img/image_06-07-2020_01-00-40_AM.png\n",
      "images/edged_img/image_06-07-2020_01-00-11_PM.png\n",
      "images/edged_img/image_07-07-2020_01-00-17_AM.png\n",
      "images/edged_img/image_07-07-2020_01-00-32_PM.png\n",
      "images/edged_img/image_08-07-2020_01-00-55_AM.png\n",
      "images/edged_img/image_08-07-2020_01-00-40_PM.png\n",
      "images/edged_img/image_09-07-2020_01-00-10_AM.png\n",
      "images/edged_img/image_09-07-2020_01-00-22_PM.png\n",
      "images/edged_img/image_10-07-2020_01-00-58_AM.png\n",
      "images/edged_img/image_10-07-2020_01-00-23_PM.png\n",
      "images/edged_img/image_11-07-2020_01-00-02_AM.png\n"
     ]
    },
    {
     "name": "stderr",
     "output_type": "stream",
     "text": [
      "c:\\users\\ccres\\appdata\\local\\programs\\python\\python37\\lib\\site-packages\\numpy\\lib\\function_base.py:390: RuntimeWarning: Mean of empty slice.\n",
      "  avg = a.mean(axis)\n",
      "c:\\users\\ccres\\appdata\\local\\programs\\python\\python37\\lib\\site-packages\\numpy\\core\\_methods.py:161: RuntimeWarning: invalid value encountered in double_scalars\n",
      "  ret = ret.dtype.type(ret / rcount)\n",
      "c:\\users\\ccres\\appdata\\local\\programs\\python\\python37\\lib\\site-packages\\numpy\\core\\fromnumeric.py:3506: RuntimeWarning: Degrees of freedom <= 0 for slice\n",
      "  **kwargs)\n",
      "c:\\users\\ccres\\appdata\\local\\programs\\python\\python37\\lib\\site-packages\\numpy\\core\\_methods.py:186: RuntimeWarning: invalid value encountered in true_divide\n",
      "  arrmean, rcount, out=arrmean, casting='unsafe', subok=False)\n",
      "c:\\users\\ccres\\appdata\\local\\programs\\python\\python37\\lib\\site-packages\\numpy\\core\\_methods.py:209: RuntimeWarning: invalid value encountered in double_scalars\n",
      "  ret = ret.dtype.type(ret / rcount)\n",
      "c:\\users\\ccres\\appdata\\local\\programs\\python\\python37\\lib\\site-packages\\numpy\\core\\_methods.py:217: RuntimeWarning: Degrees of freedom <= 0 for slice\n",
      "  keepdims=keepdims)\n",
      "c:\\users\\ccres\\appdata\\local\\programs\\python\\python37\\lib\\site-packages\\numpy\\lib\\function_base.py:390: RuntimeWarning: Mean of empty slice.\n",
      "  avg = a.mean(axis)\n",
      "c:\\users\\ccres\\appdata\\local\\programs\\python\\python37\\lib\\site-packages\\numpy\\core\\_methods.py:161: RuntimeWarning: invalid value encountered in double_scalars\n",
      "  ret = ret.dtype.type(ret / rcount)\n",
      "c:\\users\\ccres\\appdata\\local\\programs\\python\\python37\\lib\\site-packages\\numpy\\core\\fromnumeric.py:3506: RuntimeWarning: Degrees of freedom <= 0 for slice\n",
      "  **kwargs)\n",
      "c:\\users\\ccres\\appdata\\local\\programs\\python\\python37\\lib\\site-packages\\numpy\\core\\_methods.py:186: RuntimeWarning: invalid value encountered in true_divide\n",
      "  arrmean, rcount, out=arrmean, casting='unsafe', subok=False)\n",
      "c:\\users\\ccres\\appdata\\local\\programs\\python\\python37\\lib\\site-packages\\numpy\\core\\_methods.py:209: RuntimeWarning: invalid value encountered in double_scalars\n",
      "  ret = ret.dtype.type(ret / rcount)\n",
      "c:\\users\\ccres\\appdata\\local\\programs\\python\\python37\\lib\\site-packages\\numpy\\core\\_methods.py:217: RuntimeWarning: Degrees of freedom <= 0 for slice\n",
      "  keepdims=keepdims)\n"
     ]
    },
    {
     "name": "stdout",
     "output_type": "stream",
     "text": [
      "images/edged_img/image_11-07-2020_01-00-25_PM.png\n",
      "[0.28484856 7.4864597 ]\n",
      "R2 value: \n",
      "0.982358319298386\n",
      "for function y = b*exp(a*x), b = 1.783726e+03, a=2.848486e-01\n"
     ]
    },
    {
     "data": {
      "image/png": "[encoded data removed]",
      "text/plain": [
       "<Figure size 432x288 with 2 Axes>"
      ]
     },
     "metadata": {
      "needs_background": "light"
     },
     "output_type": "display_data"
    }
   ],
   "source": [
    "out = BudContours()\n"
   ]
  },
  {
   "cell_type": "code",
   "execution_count": 141,
   "metadata": {},
   "outputs": [],
   "source": [
    "x, y = out"
   ]
  },
  {
   "cell_type": "code",
   "execution_count": 162,
   "metadata": {},
   "outputs": [
    {
     "data": {
      "text/plain": [
       "array([737609, 737610, 737610, 737611, 737611, 737612, 737612, 737613,\n",
       "       737613, 737614, 737614, 737615, 737615, 737616, 737617])"
      ]
     },
     "execution_count": 162,
     "metadata": {},
     "output_type": "execute_result"
    }
   ],
   "source": [
    "x"
   ]
  },
  {
   "cell_type": "code",
   "execution_count": 145,
   "metadata": {
    "scrolled": true
   },
   "outputs": [
    {
     "name": "stdout",
     "output_type": "stream",
     "text": [
      "[ 2.84848556e-01 -2.10099372e+05]\n",
      "R2 value: \n",
      "0.982358319227697\n",
      "for function y = b*exp(a*x), b = 0.0, a=0.28484855625484995\n"
     ]
    },
    {
     "data": {
      "text/plain": [
       "<matplotlib.legend.Legend at 0x16cb242ee10>"
      ]
     },
     "execution_count": 145,
     "metadata": {},
     "output_type": "execute_result"
    },
    {
     "data": {
      "image/png": "[encoded data removed]",
      "text/plain": [
       "<Figure size 432x288 with 1 Axes>"
      ]
     },
     "metadata": {
      "needs_background": "light"
     },
     "output_type": "display_data"
    }
   ],
   "source": [
    "\n",
    "dot_num = 100\n",
    "xp = np.linspace(x[0], x[-1], dot_num)\n",
    "#x = np.linspace(1, len(y), len(y))\n",
    "exp_coef = np.polyfit(x, np.log(y), 1)\n",
    "pexp = np.poly1d(exp_coef)\n",
    "\n",
    "plt.plot(x, y)\n",
    "\n",
    "# But be careful, to transform a linear function to a exponential function\n",
    "# we should addjust coefficients.\n",
    "print(exp_coef)\n",
    "a = exp_coef[0]\n",
    "b = np.exp(exp_coef[1])\n",
    "\n",
    "print(\"R2 value: \")\n",
    "print(R2(x, np.log(y), exp_coef))\n",
    "print(\"for function y = b*exp(a*x), b = {b}, a={a}\".format(b=b, a=a))\n",
    "line_expfit, = plt.plot(xp, np.exp(pexp(xp)), label=r'exp fit line $y = {b:.2f}e^{{{a:.2f}x}}$'.format(b=b, a=a))\n",
    "plt.legend(handles=[line_expfit])\n"
   ]
  },
  {
   "cell_type": "markdown",
   "metadata": {},
   "source": [
    "$$ln(y) = 0.15x + 7.36$$\n",
    "$$e^{ln(y)} = e^{0.15x + 7.36}$$\n",
    "$$y = e^{7.36} \\times e^{0.15x}$$\n",
    "$$y = e^b \\times e^{ax}$$\n",
    "$y = be^{ax}$"
   ]
  },
  {
   "cell_type": "code",
   "execution_count": 86,
   "metadata": {},
   "outputs": [],
   "source": [
    "# ax+b to \n",
    "# b*exp(a*x)\n",
    "def f(x, a, b):\n",
    "    return np.exp(b + a * x)\n",
    "\n",
    "def R2(x, y, coefs):\n",
    "    p = np.poly1d(coefs)\n",
    "    yhat = p(x) # or [p(z) for z in x]\n",
    "    ybar = np.sum(y)/len(y)          # or sum(y)/len(y)\n",
    "    ssreg = np.sum((yhat-ybar)**2)   # or sum([ (yihat - ybar)**2 for yihat in yhat])\n",
    "    sstot = np.sum((y - ybar)**2)    # or sum([ (yi - ybar)**2 for yi in y])\n",
    "    return ssreg / sstot"
   ]
  },
  {
   "cell_type": "code",
   "execution_count": 107,
   "metadata": {},
   "outputs": [],
   "source": [
    "a = exp_coef[0]\n",
    "b = np.exp(exp_coef[1])"
   ]
  },
  {
   "cell_type": "code",
   "execution_count": 111,
   "metadata": {
    "scrolled": true
   },
   "outputs": [
    {
     "name": "stdout",
     "output_type": "stream",
     "text": [
      "R2 value: \n",
      "0.975116485764993\n",
      "for function y = b*exp(a*x), b = 1583.6942335715396, a=0.15017108687423095\n"
     ]
    },
    {
     "data": {
      "text/plain": [
       "<matplotlib.legend.Legend at 0x16cb1e8c0b8>"
      ]
     },
     "execution_count": 111,
     "metadata": {},
     "output_type": "execute_result"
    },
    {
     "data": {
      "image/png": "[encoded data removed]",
      "text/plain": [
       "<Figure size 432x288 with 1 Axes>"
      ]
     },
     "metadata": {
      "needs_background": "light"
     },
     "output_type": "display_data"
    }
   ],
   "source": [
    "print(\"R2 value: \")\n",
    "print(R2(x, np.log(y), exp_coef))\n",
    "print(\"for function y = b*exp(a*x), b = {b}, a={a}\".format(b=b, a=a))\n",
    "line_expfit, = plt.plot(xp, f(xp, exp_coef[0], exp_coef[1]), label=r'exp fit line $y = {b:.2f}e^{{{a:.2f}x}}$'.format(b=b, a=a))\n",
    "plt.legend(handles=[line_expfit])"
   ]
  },
  {
   "cell_type": "code",
   "execution_count": 90,
   "metadata": {},
   "outputs": [
    {
     "data": {
      "text/plain": [
       "1.1620330343220773"
      ]
     },
     "execution_count": 90,
     "metadata": {},
     "output_type": "execute_result"
    }
   ],
   "source": [
    "np.exp(exp_coef[0])"
   ]
  },
  {
   "cell_type": "code",
   "execution_count": 92,
   "metadata": {},
   "outputs": [
    {
     "name": "stderr",
     "output_type": "stream",
     "text": [
      "c:\\users\\ccres\\appdata\\local\\programs\\python\\python37\\lib\\site-packages\\IPython\\core\\interactiveshell.py:3326: RankWarning: Polyfit may be poorly conditioned\n",
      "  exec(code_obj, self.user_global_ns, self.user_ns)\n"
     ]
    },
    {
     "data": {
      "image/png": "[encoded data removed]",
      "text/plain": [
       "<Figure size 432x288 with 1 Axes>"
      ]
     },
     "metadata": {
      "needs_background": "light"
     },
     "output_type": "display_data"
    }
   ],
   "source": [
    "def myfunc(x):\n",
    "    return slope * x + intercept\n",
    "\n",
    "x = np.array([ i.toordinal() for i in datetime_objects ])\n",
    "y_dots = np.array(y_dots)\n",
    "\n",
    "filter_array = y_dots > 1000\n",
    "\n",
    "x = x[filter_array]\n",
    "y_dots = y_dots[filter_array]\n",
    "\n",
    "slope, intercept, r, p, std_err = stats.linregress(x, y_dots)\n",
    "y_regression = list(map(myfunc, x))\n",
    "\n",
    "\n",
    "#x = list(range(1, len(y_dots)+1))\n",
    "\n",
    "\n",
    "ax = plt.gca()\n",
    "formatter = mdates.DateFormatter(\"%b\")\n",
    "ax.xaxis.set_major_formatter(formatter)\n",
    "\n",
    "locator = mdates.MonthLocator()\n",
    "ax.xaxis.set_major_locator(locator)\n",
    "\n",
    "formatter = mdates.DateFormatter(\"%d\")\n",
    "ax.xaxis.set_minor_formatter(formatter)\n",
    "\n",
    "locator = mdates.DayLocator()\n",
    "ax.xaxis.set_minor_locator(locator)\n",
    "\n",
    "left_range = min(datetime_objects) - timedelta(days=1)\n",
    "right_range = max(datetime_objects) + timedelta(days=1)\n",
    "\n",
    "# ax.set_xlim([datetime(2020, 6, 10), datetime(2020, 7, 1)])\n",
    "ax.set_xlim([left_range, right_range])\n",
    "\n",
    "ax.scatter(x, y_dots)\n",
    "ax.plot(x, y_regression)\n",
    "\n",
    "\n",
    "\n",
    "plt.savefig(\"scatter.png\")\n",
    "\n",
    "plt.show()"
   ]
  }
 ],
 "metadata": {
  "kernelspec": {
   "display_name": "Python 3",
   "language": "python",
   "name": "python3"
  },
  "language_info": {
   "codemirror_mode": {
    "name": "ipython",
    "version": 3
   },
   "file_extension": ".py",
   "mimetype": "text/x-python",
   "name": "python",
   "nbconvert_exporter": "python",
   "pygments_lexer": "ipython3",
   "version": "3.7.3"
  }
 },
 "nbformat": 4,
 "nbformat_minor": 2
}

{
 "cells": [
  {
   "cell_type": "code",
   "execution_count": 2,
   "metadata": {
    "scrolled": false
   },
   "outputs": [
    {
     "name": "stdout",
     "output_type": "stream",
     "text": [
      "WARNING:tensorflow:\n",
      "The TensorFlow contrib module will not be included in TensorFlow 2.0.\n",
      "For more information, please see:\n",
      "  * https://github.com/tensorflow/community/blob/master/rfcs/20180907-contrib-sunset.md\n",
      "  * https://github.com/tensorflow/addons\n",
      "  * https://github.com/tensorflow/io (for I/O related ops)\n",
      "If you depend on functionality not listed there, please file an issue.\n",
      "\n"
     ]
    }
   ],
   "source": [
    "from main import getEdge\n",
    "import argparse\n",
    "from unittest import mock"
   ]
  },
  {
   "cell_type": "code",
   "execution_count": 61,
   "metadata": {},
   "outputs": [],
   "source": [
    "import numpy as np\n",
    "import cv2\n",
    "import seaborn as sns\n",
    "import matplotlib.pyplot as plt\n",
    "import os\n",
    "from math import sqrt\n",
    "from datetime import datetime\n",
    "from datetime import timedelta\n",
    "import matplotlib.dates as mdates\n",
    "from scipy import stats\n",
    "\n",
    "from find_contours import canny_edge, contours_metadata\n",
    "\n",
    "def BananaContours():\n",
    "    directory=\"images/edged_img/\"\n",
    "    datetime_objects=[]\n",
    "    files=[]\n",
    "    banana_volume_list=[]\n",
    "    for filename in os.listdir(directory):\n",
    "        if filename.endswith(\".jpg\") or filename.endswith(\".png\"):\n",
    "            # files.append(os.path.join(directory,filename))\n",
    "            # name, file_extension = os.path.splitext(filename)\n",
    "            # last_underscore_index = name.rfind('_')\n",
    "            # date_info = name[0:last_underscore_index]\n",
    "            # banana_seq = int(name[-1])\n",
    "            datetime_objects.append(datetime.strptime(filename,\"image_%d-%m-%Y_%I-%M-%S_%p.png\"))\n",
    "            # datetime_objects.append(datetime.strptime(date_info,\"%m_%d_%H_%M_%S\"))\n",
    "            # print(\"--\",os.path.join(directory,filename))\n",
    "\n",
    "    datetime_objects=sorted(datetime_objects)\n",
    "    for d in datetime_objects:\n",
    "        filename=d.strftime(\"image_%d-%m-%Y_%I-%M-%S_%p.png\")\n",
    "        files.append(os.path.join(directory,filename))\n",
    "        # print(\"--\",os.path.join(directory,filename))\n",
    "\n",
    "    for f in files:\n",
    "        edges = canny_edge(f)\n",
    "        ret,thresh = cv2.threshold(edges,127,255,0)\n",
    "        # img = cv2.imread(f,0)\n",
    "        #ret,thresh = cv2.threshold(img,127,255,0)\n",
    "        # blurred = cv2.GaussianBlur(img, (5, 5), 0)\n",
    "        # value, thresh = cv2.threshold(blurred, 60, 255, cv2.THRESH_BINARY_INV)\n",
    "        contours, hierarchy = cv2.findContours(thresh,cv2.RETR_EXTERNAL,cv2.CHAIN_APPROX_SIMPLE)\n",
    "        metadata = contours_metadata(contours)\n",
    "        minimum =metadata['area_min']\n",
    "        median =metadata['area_median']\n",
    "        maximum =metadata['area_max']\n",
    "        area_avg = metadata['area_avg']\n",
    "        area_std = metadata['area_std']\n",
    "        q1=metadata['area_Q1']\n",
    "        cnt_with_area =[]\n",
    "        total_area = 0.0\n",
    "        total_volume = 0.0\n",
    "        # /** 針對average、standard deviation去篩選contours */\n",
    "        for c in contours:\n",
    "            #if cv2.contourArea(c)>(minimum)and \\\n",
    "             #cv2.contourArea(c)<(maximum):\n",
    "            cnt_with_area.append(c)\n",
    "            a = cv2.contourArea(c)\n",
    "            total_area += a\n",
    "            total_volume += sqrt(a)**3\n",
    "        # print(len(cnt_with_area))\n",
    "\n",
    "        # /** 使用Q1、medina、Q3來篩選contours\n",
    "        # for c in contours:\n",
    "        #     if cv2.contourArea(c)> median and \\\n",
    "        #         cv2.contourArea(c)< maximum :\n",
    "        #         cnt_with_area.append(c)\n",
    "        #         total_area += cv2.contourArea(c)\n",
    "\n",
    "        read_filename = directory+ \\\n",
    "                        os.path.splitext(os.path.basename(f))[0] +\\\n",
    "                    '.png'\n",
    "        print(read_filename)\n",
    "        out_filename = 'images/result_pics/res_' + os.path.splitext(os.path.basename(f))[0] + '.png'\n",
    "        result = cv2.drawContours(cv2.imread(read_filename), cnt_with_area, -1, (0,0,255), 2)\n",
    "        cv2.imwrite(out_filename, result)\n",
    "\n",
    "        ## 畫圖\n",
    "        # if len(cnt_with_area)!=0.0:\n",
    "        # print(total_area)\n",
    "        # print(cnt_with_area)\n",
    "        avg_area = total_area / len(cnt_with_area)\n",
    "\n",
    "        banana_volume = sqrt(avg_area)**3\n",
    "        avg_volume = total_volume / len(cnt_with_area)\n",
    "        # banana_volume_list.append(banana_volume)\n",
    "        # banana_volume_list.append(avg_volume)\n",
    "        # banana_volume_list.append(total_volume)\n",
    "        # banana_volume_list.append(total_area)\n",
    "        banana_volume_list.append(avg_area)\n",
    "\n",
    "    x = list(range(1, len(banana_volume_list)+1))\n",
    "\n",
    "    x = [ i.toordinal() for i in datetime_objects ]\n",
    "    y_dots = banana_volume_list\n",
    "\n",
    "    def myfunc(x):\n",
    "        return slope * x + intercept\n",
    "\n",
    "    return datetime_objects, banana_volume_list\n",
    "    '''\n",
    "    slope, intercept, r, p, std_err = stats.linregress(x, y_dots)\n",
    "    y_regression = list(map(myfunc, x))\n",
    "\n",
    "    ax = plt.gca()\n",
    "    formatter = mdates.DateFormatter(\"%b\")\n",
    "    ax.xaxis.set_major_formatter(formatter)\n",
    "\n",
    "    locator = mdates.MonthLocator()\n",
    "    ax.xaxis.set_major_locator(locator)\n",
    "\n",
    "    formatter = mdates.DateFormatter(\"%d\")\n",
    "    ax.xaxis.set_minor_formatter(formatter)\n",
    "\n",
    "    locator = mdates.DayLocator()\n",
    "    ax.xaxis.set_minor_locator(locator)\n",
    "\n",
    "    left_range = min(datetime_objects) - timedelta(days=1)\n",
    "    right_range = max(datetime_objects) + timedelta(days=1)\n",
    "\n",
    "    # ax.set_xlim([datetime(2020, 6, 10), datetime(2020, 7, 1)])\n",
    "    ax.set_xlim([left_range, right_range])\n",
    "\n",
    "    ax.scatter(x, y_dots)\n",
    "    ax.plot(x, y_regression)\n",
    "    plt.savefig(\"scatter.png\")\n",
    "\n",
    "    plt.show()\n",
    "    '''"
   ]
  },
  {
   "cell_type": "code",
   "execution_count": 62,
   "metadata": {
    "scrolled": true
   },
   "outputs": [
    {
     "name": "stdout",
     "output_type": "stream",
     "text": [
      "images/edged_img/image_03-07-2020_01-00-21_AM.png\n",
      "images/edged_img/image_04-07-2020_01-00-24_AM.png\n",
      "images/edged_img/image_04-07-2020_01-00-54_PM.png\n",
      "images/edged_img/image_05-07-2020_01-00-55_AM.png\n",
      "images/edged_img/image_05-07-2020_01-01-55_AM.png\n",
      "images/edged_img/image_06-07-2020_01-00-40_AM.png\n",
      "images/edged_img/image_06-07-2020_01-00-11_PM.png\n",
      "images/edged_img/image_07-07-2020_01-00-17_AM.png\n",
      "images/edged_img/image_07-07-2020_01-00-32_PM.png\n",
      "images/edged_img/image_08-07-2020_01-00-55_AM.png\n",
      "images/edged_img/image_08-07-2020_01-00-40_PM.png\n",
      "images/edged_img/image_09-07-2020_01-00-10_AM.png\n",
      "images/edged_img/image_09-07-2020_01-00-22_PM.png\n",
      "images/edged_img/image_10-07-2020_01-00-58_AM.png\n",
      "images/edged_img/image_10-07-2020_01-00-23_PM.png\n",
      "images/edged_img/image_11-07-2020_01-00-02_AM.png\n",
      "images/edged_img/image_11-07-2020_01-00-25_PM.png\n",
      "finished\n"
     ]
    },
    {
     "name": "stderr",
     "output_type": "stream",
     "text": [
      "c:\\users\\ccres\\appdata\\local\\programs\\python\\python37\\lib\\site-packages\\numpy\\lib\\function_base.py:390: RuntimeWarning: Mean of empty slice.\n",
      "  avg = a.mean(axis)\n",
      "c:\\users\\ccres\\appdata\\local\\programs\\python\\python37\\lib\\site-packages\\numpy\\core\\_methods.py:161: RuntimeWarning: invalid value encountered in double_scalars\n",
      "  ret = ret.dtype.type(ret / rcount)\n",
      "c:\\users\\ccres\\appdata\\local\\programs\\python\\python37\\lib\\site-packages\\numpy\\core\\fromnumeric.py:3506: RuntimeWarning: Degrees of freedom <= 0 for slice\n",
      "  **kwargs)\n",
      "c:\\users\\ccres\\appdata\\local\\programs\\python\\python37\\lib\\site-packages\\numpy\\core\\_methods.py:186: RuntimeWarning: invalid value encountered in true_divide\n",
      "  arrmean, rcount, out=arrmean, casting='unsafe', subok=False)\n",
      "c:\\users\\ccres\\appdata\\local\\programs\\python\\python37\\lib\\site-packages\\numpy\\core\\_methods.py:209: RuntimeWarning: invalid value encountered in double_scalars\n",
      "  ret = ret.dtype.type(ret / rcount)\n",
      "c:\\users\\ccres\\appdata\\local\\programs\\python\\python37\\lib\\site-packages\\numpy\\core\\_methods.py:217: RuntimeWarning: Degrees of freedom <= 0 for slice\n",
      "  keepdims=keepdims)\n",
      "c:\\users\\ccres\\appdata\\local\\programs\\python\\python37\\lib\\site-packages\\numpy\\lib\\function_base.py:390: RuntimeWarning: Mean of empty slice.\n",
      "  avg = a.mean(axis)\n",
      "c:\\users\\ccres\\appdata\\local\\programs\\python\\python37\\lib\\site-packages\\numpy\\core\\_methods.py:161: RuntimeWarning: invalid value encountered in double_scalars\n",
      "  ret = ret.dtype.type(ret / rcount)\n",
      "c:\\users\\ccres\\appdata\\local\\programs\\python\\python37\\lib\\site-packages\\numpy\\core\\fromnumeric.py:3506: RuntimeWarning: Degrees of freedom <= 0 for slice\n",
      "  **kwargs)\n",
      "c:\\users\\ccres\\appdata\\local\\programs\\python\\python37\\lib\\site-packages\\numpy\\core\\_methods.py:186: RuntimeWarning: invalid value encountered in true_divide\n",
      "  arrmean, rcount, out=arrmean, casting='unsafe', subok=False)\n",
      "c:\\users\\ccres\\appdata\\local\\programs\\python\\python37\\lib\\site-packages\\numpy\\core\\_methods.py:209: RuntimeWarning: invalid value encountered in double_scalars\n",
      "  ret = ret.dtype.type(ret / rcount)\n",
      "c:\\users\\ccres\\appdata\\local\\programs\\python\\python37\\lib\\site-packages\\numpy\\core\\_methods.py:217: RuntimeWarning: Degrees of freedom <= 0 for slice\n",
      "  keepdims=keepdims)\n"
     ]
    }
   ],
   "source": [
    "out = BananaContours()\n",
    "print(\"finished\")"
   ]
  },
  {
   "cell_type": "code",
   "execution_count": 91,
   "metadata": {},
   "outputs": [],
   "source": [
    "datetime_objects, y_dots = out"
   ]
  },
  {
   "cell_type": "code",
   "execution_count": 52,
   "metadata": {
    "scrolled": true
   },
   "outputs": [
    {
     "data": {
      "image/png": "[encoded data removed]",
      "text/plain": [
       "<Figure size 432x288 with 1 Axes>"
      ]
     },
     "metadata": {
      "needs_background": "light"
     },
     "output_type": "display_data"
    }
   ],
   "source": [
    "\n",
    "x = list(range(1, len(y)+1))\n",
    "p3 = np.poly1d(np.polyfit(x, y, 2))\n",
    "pexp = np.poly1d(np.polyfit(x, np.log(y), 1))\n",
    "xp = np.linspace(1, len(y)+1, 100)\n",
    "plt.plot(x, y, '-', xp, p3(xp), '.', xp, np.exp(pexp(xp)), '--')\n",
    "plt.show()"
   ]
  },
  {
   "cell_type": "code",
   "execution_count": null,
   "metadata": {},
   "outputs": [],
   "source": [
    "\n",
    "def draw_fitline(ax, x, y, pyplot_formatter, fit_type):\n",
    "    p3 = np.poly1d(np.polyfit(x, y_dots, 3))\n",
    "    pexp = np.poly1d(np.polyfit(x, np.log(y_dots), 1))\n",
    "    xp = np.linspace(x[0], x[-1], 100)\n",
    "    ax.plot(xp, p3(xp), '--')\n",
    "    #print(xp)\n",
    "    ax.plot(xp, np.exp(pexp(xp)), '--')\n",
    "    "
   ]
  },
  {
   "cell_type": "code",
   "execution_count": 92,
   "metadata": {},
   "outputs": [
    {
     "name": "stderr",
     "output_type": "stream",
     "text": [
      "c:\\users\\ccres\\appdata\\local\\programs\\python\\python37\\lib\\site-packages\\IPython\\core\\interactiveshell.py:3326: RankWarning: Polyfit may be poorly conditioned\n",
      "  exec(code_obj, self.user_global_ns, self.user_ns)\n"
     ]
    },
    {
     "data": {
      "image/png": "[encoded data removed]",
      "text/plain": [
       "<Figure size 432x288 with 1 Axes>"
      ]
     },
     "metadata": {
      "needs_background": "light"
     },
     "output_type": "display_data"
    }
   ],
   "source": [
    "def myfunc(x):\n",
    "    return slope * x + intercept\n",
    "\n",
    "x = np.array([ i.toordinal() for i in datetime_objects ])\n",
    "y_dots = np.array(y_dots)\n",
    "\n",
    "filter_array = y_dots > 1000\n",
    "\n",
    "x = x[filter_array]\n",
    "y_dots = y_dots[filter_array]\n",
    "\n",
    "slope, intercept, r, p, std_err = stats.linregress(x, y_dots)\n",
    "y_regression = list(map(myfunc, x))\n",
    "\n",
    "\n",
    "#x = list(range(1, len(y_dots)+1))\n",
    "\n",
    "\n",
    "ax = plt.gca()\n",
    "formatter = mdates.DateFormatter(\"%b\")\n",
    "ax.xaxis.set_major_formatter(formatter)\n",
    "\n",
    "locator = mdates.MonthLocator()\n",
    "ax.xaxis.set_major_locator(locator)\n",
    "\n",
    "formatter = mdates.DateFormatter(\"%d\")\n",
    "ax.xaxis.set_minor_formatter(formatter)\n",
    "\n",
    "locator = mdates.DayLocator()\n",
    "ax.xaxis.set_minor_locator(locator)\n",
    "\n",
    "left_range = min(datetime_objects) - timedelta(days=1)\n",
    "right_range = max(datetime_objects) + timedelta(days=1)\n",
    "\n",
    "# ax.set_xlim([datetime(2020, 6, 10), datetime(2020, 7, 1)])\n",
    "ax.set_xlim([left_range, right_range])\n",
    "\n",
    "ax.scatter(x, y_dots)\n",
    "ax.plot(x, y_regression)\n",
    "\n",
    "\n",
    "\n",
    "plt.savefig(\"scatter.png\")\n",
    "\n",
    "plt.show()"
   ]
  }
 ],
 "metadata": {
  "kernelspec": {
   "display_name": "Python 3",
   "language": "python",
   "name": "python3"
  },
  "language_info": {
   "codemirror_mode": {
    "name": "ipython",
    "version": 3
   },
   "file_extension": ".py",
   "mimetype": "text/x-python",
   "name": "python",
   "nbconvert_exporter": "python",
   "pygments_lexer": "ipython3",
   "version": "3.7.3"
  }
 },
 "nbformat": 4,
 "nbformat_minor": 2
}
